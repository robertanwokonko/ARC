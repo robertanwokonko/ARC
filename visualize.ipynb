{
 "cells": [
  {
   "cell_type": "code",
   "execution_count": 1,
   "metadata": {},
   "outputs": [],
   "source": [
    "import pandas as pd\n",
    "import numpy as np\n",
    "\n",
    "import matplotlib.pyplot as plt\n",
    "from matplotlib import colors\n",
    "import seaborn as sns\n",
    "\n",
    "import json\n",
    "import os\n",
    "from pathlib import Path\n",
    "from glob import glob\n",
    "\n",
    "from subprocess import Popen, PIPE, STDOUT"
   ]
  },
  {
   "cell_type": "code",
   "execution_count": null,
   "metadata": {},
   "outputs": [],
   "source": [
    "base_path ='arc-prize-2024/'\n",
    "evaluation_challenges_file='arc-agi_evaluation_challenges.json'\n",
    "evaluation_solutions_file='arc-agi_evaluation_solutions.json'\n",
    "test_challenges_file='arc-agi_test_challenges.json'\n",
    "training_challenges_file='arc-agi_training_challenges.json'\n",
    "training_solutions_file='arc-agi_training_solutions.json'\n",
    "sample_submission_file='sample_submission.json'"
   ]
  },
  {
   "cell_type": "code",
   "execution_count": null,
   "metadata": {},
   "outputs": [],
   "source": [
    "def load_json(file_path):\n",
    "    with open(file_path) as f:\n",
    "        data = json.load(f)\n",
    "    return data"
   ]
  },
  {
   "cell_type": "code",
   "execution_count": null,
   "metadata": {},
   "outputs": [],
   "source": [
    "training_challenges = load_json(base_path + training_challenges_file )\n",
    "training_solutions = load_json(base_path + training_solutions_file )\n",
    "\n",
    "evaluation_challenges = load_json(base_path + evaluation_challenges_file )\n",
    "evaluation_solutions = load_json(base_path + evaluation_solutions_file )\n",
    "\n",
    "test_challenges = load_json(base_path + test_challenges_file )"
   ]
  },
  {
   "cell_type": "markdown",
   "metadata": {},
   "source": [
    "### Color Setup"
   ]
  },
  {
   "cell_type": "code",
   "execution_count": 2,
   "metadata": {},
   "outputs": [
    {
     "data": {
      "image/png": "[encoded data removed]",
      "text/plain": [
       "<Figure size 450x150 with 1 Axes>"
      ]
     },
     "metadata": {
      "needs_background": "light"
     },
     "output_type": "display_data"
    }
   ],
   "source": [
    "# 0:black, 1:blue, 2:red, 3:green, 4:yellow, # 5:gray, 6:magenta, 7:orange, 8:sky, 9:brown\n",
    "cmap = colors.ListedColormap(\n",
    "    ['#000000', '#0074D9', '#FF4136', '#2ECC40', '#FFDC00',\n",
    "     '#AAAAAA', '#F012BE', '#FF851B', '#7FDBFF', '#870C25'])\n",
    "\n",
    "norm = colors.Normalize(vmin=0,vmax=9)\n",
    "\n",
    "plt.figure(figsize=(3,1),dpi=150)\n",
    "plt.imshow([list(range(10))],cmap=cmap)#,norm=norm)\n",
    "plt.xticks(list(range(10)))\n",
    "plt.yticks([])\n",
    "plt.show()"
   ]
  },
  {
   "cell_type": "code",
   "execution_count": null,
   "metadata": {},
   "outputs": [],
   "source": [
    "def plot_task(task,task_solution,i,t):\n",
    "    num_train = len(task['train'])\n",
    "    num_test = len(task['test'])\n",
    "    \n",
    "    w= num_train+num_test \n",
    "    fig,axs = plt.subplots(2,w,figsize=(3*w,3*2))\n",
    "    plt.suptitle(f'Set #{i}, {t}:',fontsize=20,fontweight='bold',y=1)\n",
    "    \n",
    "    for j in range(num_train):\n",
    "        plot_one(axs[0,j],j,'train','input')\n",
    "        plot_one(axs[1,j],j,'train','output')\n",
    "    \n",
    "    plot_one(axs[0,j+1],0,'test','input')\n",
    "    \n",
    "    answer = task_solution\n",
    "    input_matrix = answer\n",
    "    \n",
    "    axs[1,j+1].imshow(input_matrix,cmap=cmap,norm=norm)\n",
    "    axs[1,j+1].grid(True,which='both',color='lightgrey',linewidth=0.5)\n",
    "    axs[1,j+1].set_yticks([x-0.5 for x in range(1+len(input_matrix))])\n",
    "    axs[1,j+1].set_xticks([x-0.5 for x in range(1+len(input_matrix[0]))])\n",
    "    axs[1,j+1].set_xticklabels([])\n",
    "    axs[1,j+1].set_yticklabels([])\n",
    "    axs[1,j+1].set_title('Test output')\n",
    "    \n",
    "    axs[1,j+1] = plt.figure(1).add_subplot(111)\n",
    "    axs[1,j+1].set_xlim([0,num_train+1])\n",
    "    \n",
    "    for m in range(1,num_train):\n",
    "        axs[1,j+1].plot([m,m],[0,1],'--',linewidth=1,color='black')\n",
    "    axs[1,j+1].plot([num_train,num_train],[0,1],'-',linewidth=5,color='black')\n",
    "    axs[1,j+1].axis(\"off\")\n",
    "    \n",
    "    fig.patch.set_linewidth(5)\n",
    "    fig.patch.set_edgecolor('black')\n",
    "    fig.patch.set_facecolor('#dddddd')\n",
    "   \n",
    "    plt.tight_layout()\n",
    "    print(f'#{i}, {t}') # for fast and convinience search\n",
    "    plt.show()  \n",
    "    \n",
    "    print()\n",
    "    print()\n",
    "    \n",
    "def plot_one(task,ax,i,train_or_test,input_or_output):\n",
    "    input_matrix = task[train_or_test][i][input_or_output]\n",
    "    \n",
    "    ax.imshow(input_matrix,cmap=cmap,norm=norm)\n",
    "    ax.grid(True,which='both',color='lightgrey',linewidth=0.5)\n",
    "    \n",
    "    plt.setp(plt.gcf().get_axes(), xticklabels=[],yticklabels=[])\n",
    "    ax.set_xticks([x-0.5 for x in range(1+ len(input_matrix[0]))])\n",
    "    ax.set_yticks([x-0.5 for x in range(1+ len(input_matrix))])\n",
    "    ax.set_title(train_or_test + ' ' + input_or_output)"
   ]
  }
 ],
 "metadata": {
  "kernelspec": {
   "display_name": "Python 3",
   "language": "python",
   "name": "python3"
  },
  "language_info": {
   "codemirror_mode": {
    "name": "ipython",
    "version": 3
   },
   "file_extension": ".py",
   "mimetype": "text/x-python",
   "name": "python",
   "nbconvert_exporter": "python",
   "pygments_lexer": "ipython3",
   "version": "3.9.5"
  }
 },
 "nbformat": 4,
 "nbformat_minor": 2
}
